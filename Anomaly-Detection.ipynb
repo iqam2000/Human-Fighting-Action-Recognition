{
 "cells": [
  {
   "cell_type": "code",
   "execution_count": 1,
   "id": "59deb2b3",
   "metadata": {},
   "outputs": [],
   "source": [
    "import opendatasets as od"
   ]
  },
  {
   "cell_type": "code",
   "execution_count": null,
   "id": "e0010893",
   "metadata": {},
   "outputs": [
    {
     "name": "stdout",
     "output_type": "stream",
     "text": [
      "Please provide your Kaggle credentials to download this dataset. Learn more: http://bit.ly/kaggle-creds\n",
      "Your Kaggle username: amaninasser\n",
      "Your Kaggle Key: ········\n",
      "Downloading anomalydetectiondatasetucf.zip to .\\anomalydetectiondatasetucf\n"
     ]
    },
    {
     "name": "stderr",
     "output_type": "stream",
     "text": [
      "  3%|▎         | 1.27G/38.2G [53:43<54:32:41, 202kB/s]"
     ]
    }
   ],
   "source": [
    "od.download(\"https://www.kaggle.com/datasets/minhajuddinmeraj/anomalydetectiondatasetucf?select=All_Data\", force=True)"
   ]
  },
  {
   "cell_type": "code",
   "execution_count": null,
   "id": "d2fd0669",
   "metadata": {},
   "outputs": [],
   "source": []
  }
 ],
 "metadata": {
  "kernelspec": {
   "display_name": "Python 3 (ipykernel)",
   "language": "python",
   "name": "python3"
  },
  "language_info": {
   "codemirror_mode": {
    "name": "ipython",
    "version": 3
   },
   "file_extension": ".py",
   "mimetype": "text/x-python",
   "name": "python",
   "nbconvert_exporter": "python",
   "pygments_lexer": "ipython3",
   "version": "3.9.12"
  }
 },
 "nbformat": 4,
 "nbformat_minor": 5
}
